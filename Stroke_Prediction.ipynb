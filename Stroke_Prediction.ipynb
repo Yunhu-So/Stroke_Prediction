{
  "nbformat": 4,
  "nbformat_minor": 0,
  "metadata": {
    "colab": {
      "name": "Stroke Prediction",
      "provenance": []
    },
    "kernelspec": {
      "name": "python3",
      "display_name": "Python 3"
    },
    "language_info": {
      "name": "python"
    }
  },
  "cells": [
    {
      "cell_type": "code",
      "execution_count": 1,
      "metadata": {
        "id": "ZzPMlleGTcur"
      },
      "outputs": [],
      "source": [
        "import pandas as pd\n",
        "import numpy as np\n",
        "import tensorflow as tf\n",
        "from keras.models import Sequential\n",
        "from keras.layers import Dense\n",
        "from sklearn.compose import ColumnTransformer\n",
        "from sklearn.preprocessing import OneHotEncoder"
      ]
    },
    {
      "cell_type": "code",
      "source": [
        "df = pd.read_csv('healthcare-dataset-stroke-data.csv')\n",
        "df = df.dropna()"
      ],
      "metadata": {
        "id": "sK0ZF4nNTda2"
      },
      "execution_count": 2,
      "outputs": []
    },
    {
      "cell_type": "code",
      "source": [
        "X = df.iloc[:, 1:-1].values\n",
        "y = df.iloc[:, -1].values\n",
        "X"
      ],
      "metadata": {
        "colab": {
          "base_uri": "https://localhost:8080/"
        },
        "id": "bjt-vQ0VTdg1",
        "outputId": "9bb1546a-07ae-490d-ddce-78abbf9a0def"
      },
      "execution_count": 3,
      "outputs": [
        {
          "output_type": "execute_result",
          "data": {
            "text/plain": [
              "array([[0, 67.0, 0, ..., 228.69, 36.6, 'formerly smoked'],\n",
              "       [0, 80.0, 0, ..., 105.92, 32.5, 'never smoked'],\n",
              "       [1, 49.0, 0, ..., 171.23, 34.4, 'smokes'],\n",
              "       ...,\n",
              "       [1, 35.0, 0, ..., 82.99, 30.6, 'never smoked'],\n",
              "       [0, 51.0, 0, ..., 166.29, 25.6, 'formerly smoked'],\n",
              "       [1, 44.0, 0, ..., 85.28, 26.2, 'Unk1wn']], dtype=object)"
            ]
          },
          "metadata": {},
          "execution_count": 3
        }
      ]
    },
    {
      "cell_type": "code",
      "source": [
        "# 1 0 0 = formerly smoked\n",
        "# 0 1 0 = never smoked\n",
        "# 0 0 1 = smokes\n",
        "# 0 0 0 = Unk1wn\n",
        "\n",
        "ct = ColumnTransformer(transformers=[('encoder', OneHotEncoder(drop='first'), [-1])], remainder='passthrough')\n",
        "X = ct.fit_transform(X)\n",
        "X"
      ],
      "metadata": {
        "colab": {
          "base_uri": "https://localhost:8080/"
        },
        "id": "xYTBknHyTdmd",
        "outputId": "2428745f-9bdc-4ba1-c3a1-4dbebed02866"
      },
      "execution_count": 4,
      "outputs": [
        {
          "output_type": "execute_result",
          "data": {
            "text/plain": [
              "array([[1.0, 0.0, 0.0, ..., 0, 228.69, 36.6],\n",
              "       [0.0, 1.0, 0.0, ..., 1, 105.92, 32.5],\n",
              "       [0.0, 0.0, 1.0, ..., 0, 171.23, 34.4],\n",
              "       ...,\n",
              "       [0.0, 1.0, 0.0, ..., 1, 82.99, 30.6],\n",
              "       [1.0, 0.0, 0.0, ..., 1, 166.29, 25.6],\n",
              "       [0.0, 0.0, 0.0, ..., 0, 85.28, 26.2]], dtype=object)"
            ]
          },
          "metadata": {},
          "execution_count": 4
        }
      ]
    },
    {
      "cell_type": "code",
      "source": [
        "X = np.asarray(X).astype('float32')\n",
        "y = np.asarray(y).astype('float32')"
      ],
      "metadata": {
        "id": "2GXMbQDwcMbB"
      },
      "execution_count": 5,
      "outputs": []
    },
    {
      "cell_type": "code",
      "source": [
        "model=Sequential()\n",
        "model.add(Dense(64, activation='tanh'))\n",
        "model.add(Dense(128, activation='tanh'))\n",
        "model.add(Dense(1, activation='sigmoid'));\n",
        "\n",
        "model.compile(optimizer='adam', loss='binary_crossentropy', metrics=['accuracy'])\n",
        "model.fit(X, y, epochs=100)"
      ],
      "metadata": {
        "colab": {
          "base_uri": "https://localhost:8080/"
        },
        "id": "6jAQREsSTdoc",
        "outputId": "1baa2ded-9c34-4d42-eece-2a7e6a86307b"
      },
      "execution_count": 6,
      "outputs": [
        {
          "output_type": "stream",
          "name": "stdout",
          "text": [
            "Epoch 1/100\n",
            "154/154 [==============================] - 2s 5ms/step - loss: 0.1762 - accuracy: 0.9536\n",
            "Epoch 2/100\n",
            "154/154 [==============================] - 1s 4ms/step - loss: 0.1529 - accuracy: 0.9574\n",
            "Epoch 3/100\n",
            "154/154 [==============================] - 1s 4ms/step - loss: 0.1526 - accuracy: 0.9574\n",
            "Epoch 4/100\n",
            "154/154 [==============================] - 1s 5ms/step - loss: 0.1531 - accuracy: 0.9574\n",
            "Epoch 5/100\n",
            "154/154 [==============================] - 1s 5ms/step - loss: 0.1533 - accuracy: 0.9574\n",
            "Epoch 6/100\n",
            "154/154 [==============================] - 1s 6ms/step - loss: 0.1523 - accuracy: 0.9574\n",
            "Epoch 7/100\n",
            "154/154 [==============================] - 1s 4ms/step - loss: 0.1511 - accuracy: 0.9574\n",
            "Epoch 8/100\n",
            "154/154 [==============================] - 1s 5ms/step - loss: 0.1504 - accuracy: 0.9574\n",
            "Epoch 9/100\n",
            "154/154 [==============================] - 1s 4ms/step - loss: 0.1505 - accuracy: 0.9574\n",
            "Epoch 10/100\n",
            "154/154 [==============================] - 1s 4ms/step - loss: 0.1503 - accuracy: 0.9574\n",
            "Epoch 11/100\n",
            "154/154 [==============================] - 1s 4ms/step - loss: 0.1495 - accuracy: 0.9574\n",
            "Epoch 12/100\n",
            "154/154 [==============================] - 1s 4ms/step - loss: 0.1498 - accuracy: 0.9574\n",
            "Epoch 13/100\n",
            "154/154 [==============================] - 1s 5ms/step - loss: 0.1481 - accuracy: 0.9574\n",
            "Epoch 14/100\n",
            "154/154 [==============================] - 1s 6ms/step - loss: 0.1479 - accuracy: 0.9574\n",
            "Epoch 15/100\n",
            "154/154 [==============================] - 1s 6ms/step - loss: 0.1483 - accuracy: 0.9574\n",
            "Epoch 16/100\n",
            "154/154 [==============================] - 1s 6ms/step - loss: 0.1498 - accuracy: 0.9574\n",
            "Epoch 17/100\n",
            "154/154 [==============================] - 1s 5ms/step - loss: 0.1477 - accuracy: 0.9574\n",
            "Epoch 18/100\n",
            "154/154 [==============================] - 1s 4ms/step - loss: 0.1473 - accuracy: 0.9574\n",
            "Epoch 19/100\n",
            "154/154 [==============================] - 1s 5ms/step - loss: 0.1485 - accuracy: 0.9574\n",
            "Epoch 20/100\n",
            "154/154 [==============================] - 1s 5ms/step - loss: 0.1475 - accuracy: 0.9574\n",
            "Epoch 21/100\n",
            "154/154 [==============================] - 1s 4ms/step - loss: 0.1462 - accuracy: 0.9574\n",
            "Epoch 22/100\n",
            "154/154 [==============================] - 1s 4ms/step - loss: 0.1482 - accuracy: 0.9574\n",
            "Epoch 23/100\n",
            "154/154 [==============================] - 1s 5ms/step - loss: 0.1461 - accuracy: 0.9574\n",
            "Epoch 24/100\n",
            "154/154 [==============================] - 1s 8ms/step - loss: 0.1472 - accuracy: 0.9574\n",
            "Epoch 25/100\n",
            "154/154 [==============================] - 1s 6ms/step - loss: 0.1444 - accuracy: 0.9574\n",
            "Epoch 26/100\n",
            "154/154 [==============================] - 1s 5ms/step - loss: 0.1455 - accuracy: 0.9574\n",
            "Epoch 27/100\n",
            "154/154 [==============================] - 1s 6ms/step - loss: 0.1473 - accuracy: 0.9574\n",
            "Epoch 28/100\n",
            "154/154 [==============================] - 1s 4ms/step - loss: 0.1454 - accuracy: 0.9574\n",
            "Epoch 29/100\n",
            "154/154 [==============================] - 1s 4ms/step - loss: 0.1440 - accuracy: 0.9574\n",
            "Epoch 30/100\n",
            "154/154 [==============================] - 1s 4ms/step - loss: 0.1455 - accuracy: 0.9574\n",
            "Epoch 31/100\n",
            "154/154 [==============================] - 1s 6ms/step - loss: 0.1456 - accuracy: 0.9574\n",
            "Epoch 32/100\n",
            "154/154 [==============================] - 1s 3ms/step - loss: 0.1452 - accuracy: 0.9574\n",
            "Epoch 33/100\n",
            "154/154 [==============================] - 0s 2ms/step - loss: 0.1457 - accuracy: 0.9574\n",
            "Epoch 34/100\n",
            "154/154 [==============================] - 0s 2ms/step - loss: 0.1434 - accuracy: 0.9574\n",
            "Epoch 35/100\n",
            "154/154 [==============================] - 0s 2ms/step - loss: 0.1430 - accuracy: 0.9574\n",
            "Epoch 36/100\n",
            "154/154 [==============================] - 0s 2ms/step - loss: 0.1446 - accuracy: 0.9574\n",
            "Epoch 37/100\n",
            "154/154 [==============================] - 0s 2ms/step - loss: 0.1430 - accuracy: 0.9574\n",
            "Epoch 38/100\n",
            "154/154 [==============================] - 0s 2ms/step - loss: 0.1452 - accuracy: 0.9574\n",
            "Epoch 39/100\n",
            "154/154 [==============================] - 0s 2ms/step - loss: 0.1465 - accuracy: 0.9574\n",
            "Epoch 40/100\n",
            "154/154 [==============================] - 0s 2ms/step - loss: 0.1431 - accuracy: 0.9574\n",
            "Epoch 41/100\n",
            "154/154 [==============================] - 0s 2ms/step - loss: 0.1449 - accuracy: 0.9574\n",
            "Epoch 42/100\n",
            "154/154 [==============================] - 0s 2ms/step - loss: 0.1456 - accuracy: 0.9574\n",
            "Epoch 43/100\n",
            "154/154 [==============================] - 0s 2ms/step - loss: 0.1429 - accuracy: 0.9574\n",
            "Epoch 44/100\n",
            "154/154 [==============================] - 0s 2ms/step - loss: 0.1426 - accuracy: 0.9574\n",
            "Epoch 45/100\n",
            "154/154 [==============================] - 0s 2ms/step - loss: 0.1445 - accuracy: 0.9574\n",
            "Epoch 46/100\n",
            "154/154 [==============================] - 0s 2ms/step - loss: 0.1437 - accuracy: 0.9574\n",
            "Epoch 47/100\n",
            "154/154 [==============================] - 0s 2ms/step - loss: 0.1430 - accuracy: 0.9574\n",
            "Epoch 48/100\n",
            "154/154 [==============================] - 0s 2ms/step - loss: 0.1445 - accuracy: 0.9574\n",
            "Epoch 49/100\n",
            "154/154 [==============================] - 0s 2ms/step - loss: 0.1442 - accuracy: 0.9574\n",
            "Epoch 50/100\n",
            "154/154 [==============================] - 0s 2ms/step - loss: 0.1421 - accuracy: 0.9574\n",
            "Epoch 51/100\n",
            "154/154 [==============================] - 0s 2ms/step - loss: 0.1435 - accuracy: 0.9574\n",
            "Epoch 52/100\n",
            "154/154 [==============================] - 0s 2ms/step - loss: 0.1431 - accuracy: 0.9574\n",
            "Epoch 53/100\n",
            "154/154 [==============================] - 0s 2ms/step - loss: 0.1442 - accuracy: 0.9574\n",
            "Epoch 54/100\n",
            "154/154 [==============================] - 0s 2ms/step - loss: 0.1431 - accuracy: 0.9574\n",
            "Epoch 55/100\n",
            "154/154 [==============================] - 0s 2ms/step - loss: 0.1431 - accuracy: 0.9574\n",
            "Epoch 56/100\n",
            "154/154 [==============================] - 0s 2ms/step - loss: 0.1421 - accuracy: 0.9574\n",
            "Epoch 57/100\n",
            "154/154 [==============================] - 0s 2ms/step - loss: 0.1435 - accuracy: 0.9574\n",
            "Epoch 58/100\n",
            "154/154 [==============================] - 0s 2ms/step - loss: 0.1437 - accuracy: 0.9574\n",
            "Epoch 59/100\n",
            "154/154 [==============================] - 0s 2ms/step - loss: 0.1430 - accuracy: 0.9574\n",
            "Epoch 60/100\n",
            "154/154 [==============================] - 0s 2ms/step - loss: 0.1422 - accuracy: 0.9574\n",
            "Epoch 61/100\n",
            "154/154 [==============================] - 0s 2ms/step - loss: 0.1413 - accuracy: 0.9574\n",
            "Epoch 62/100\n",
            "154/154 [==============================] - 0s 2ms/step - loss: 0.1446 - accuracy: 0.9574\n",
            "Epoch 63/100\n",
            "154/154 [==============================] - 0s 2ms/step - loss: 0.1420 - accuracy: 0.9574\n",
            "Epoch 64/100\n",
            "154/154 [==============================] - 0s 2ms/step - loss: 0.1406 - accuracy: 0.9574\n",
            "Epoch 65/100\n",
            "154/154 [==============================] - 0s 2ms/step - loss: 0.1398 - accuracy: 0.9574\n",
            "Epoch 66/100\n",
            "154/154 [==============================] - 0s 2ms/step - loss: 0.1415 - accuracy: 0.9574\n",
            "Epoch 67/100\n",
            "154/154 [==============================] - 0s 2ms/step - loss: 0.1402 - accuracy: 0.9574\n",
            "Epoch 68/100\n",
            "154/154 [==============================] - 0s 2ms/step - loss: 0.1416 - accuracy: 0.9574\n",
            "Epoch 69/100\n",
            "154/154 [==============================] - 0s 2ms/step - loss: 0.1396 - accuracy: 0.9574\n",
            "Epoch 70/100\n",
            "154/154 [==============================] - 0s 2ms/step - loss: 0.1444 - accuracy: 0.9574\n",
            "Epoch 71/100\n",
            "154/154 [==============================] - 0s 2ms/step - loss: 0.1426 - accuracy: 0.9574\n",
            "Epoch 72/100\n",
            "154/154 [==============================] - 0s 2ms/step - loss: 0.1394 - accuracy: 0.9574\n",
            "Epoch 73/100\n",
            "154/154 [==============================] - 0s 2ms/step - loss: 0.1409 - accuracy: 0.9574\n",
            "Epoch 74/100\n",
            "154/154 [==============================] - 0s 2ms/step - loss: 0.1416 - accuracy: 0.9574\n",
            "Epoch 75/100\n",
            "154/154 [==============================] - 0s 2ms/step - loss: 0.1414 - accuracy: 0.9574\n",
            "Epoch 76/100\n",
            "154/154 [==============================] - 0s 2ms/step - loss: 0.1397 - accuracy: 0.9574\n",
            "Epoch 77/100\n",
            "154/154 [==============================] - 0s 2ms/step - loss: 0.1400 - accuracy: 0.9574\n",
            "Epoch 78/100\n",
            "154/154 [==============================] - 0s 2ms/step - loss: 0.1399 - accuracy: 0.9574\n",
            "Epoch 79/100\n",
            "154/154 [==============================] - 0s 2ms/step - loss: 0.1388 - accuracy: 0.9574\n",
            "Epoch 80/100\n",
            "154/154 [==============================] - 0s 2ms/step - loss: 0.1390 - accuracy: 0.9574\n",
            "Epoch 81/100\n",
            "154/154 [==============================] - 0s 2ms/step - loss: 0.1390 - accuracy: 0.9574\n",
            "Epoch 82/100\n",
            "154/154 [==============================] - 0s 2ms/step - loss: 0.1395 - accuracy: 0.9574\n",
            "Epoch 83/100\n",
            "154/154 [==============================] - 0s 2ms/step - loss: 0.1398 - accuracy: 0.9574\n",
            "Epoch 84/100\n",
            "154/154 [==============================] - 0s 2ms/step - loss: 0.1402 - accuracy: 0.9574\n",
            "Epoch 85/100\n",
            "154/154 [==============================] - 0s 2ms/step - loss: 0.1381 - accuracy: 0.9574\n",
            "Epoch 86/100\n",
            "154/154 [==============================] - 0s 2ms/step - loss: 0.1375 - accuracy: 0.9572\n",
            "Epoch 87/100\n",
            "154/154 [==============================] - 0s 2ms/step - loss: 0.1388 - accuracy: 0.9574\n",
            "Epoch 88/100\n",
            "154/154 [==============================] - 0s 2ms/step - loss: 0.1383 - accuracy: 0.9574\n",
            "Epoch 89/100\n",
            "154/154 [==============================] - 0s 2ms/step - loss: 0.1403 - accuracy: 0.9574\n",
            "Epoch 90/100\n",
            "154/154 [==============================] - 0s 2ms/step - loss: 0.1385 - accuracy: 0.9574\n",
            "Epoch 91/100\n",
            "154/154 [==============================] - 0s 2ms/step - loss: 0.1392 - accuracy: 0.9574\n",
            "Epoch 92/100\n",
            "154/154 [==============================] - 0s 2ms/step - loss: 0.1386 - accuracy: 0.9574\n",
            "Epoch 93/100\n",
            "154/154 [==============================] - 0s 2ms/step - loss: 0.1373 - accuracy: 0.9574\n",
            "Epoch 94/100\n",
            "154/154 [==============================] - 0s 2ms/step - loss: 0.1375 - accuracy: 0.9574\n",
            "Epoch 95/100\n",
            "154/154 [==============================] - 0s 2ms/step - loss: 0.1396 - accuracy: 0.9574\n",
            "Epoch 96/100\n",
            "154/154 [==============================] - 0s 2ms/step - loss: 0.1402 - accuracy: 0.9574\n",
            "Epoch 97/100\n",
            "154/154 [==============================] - 0s 2ms/step - loss: 0.1368 - accuracy: 0.9574\n",
            "Epoch 98/100\n",
            "154/154 [==============================] - 0s 2ms/step - loss: 0.1369 - accuracy: 0.9574\n",
            "Epoch 99/100\n",
            "154/154 [==============================] - 0s 2ms/step - loss: 0.1363 - accuracy: 0.9574\n",
            "Epoch 100/100\n",
            "154/154 [==============================] - 0s 2ms/step - loss: 0.1379 - accuracy: 0.9574\n"
          ]
        },
        {
          "output_type": "execute_result",
          "data": {
            "text/plain": [
              "<keras.callbacks.History at 0x7fac36fac250>"
            ]
          },
          "metadata": {},
          "execution_count": 6
        }
      ]
    },
    {
      "cell_type": "code",
      "source": [
        "# A 40 year old male who has hypertension, has heart disease, is married, has a private job, lives at urban, has a glucose level of 170, has a bmi of 20, and smokes\n",
        "\n",
        "prediction = model.predict([[0, 0, 1, 0, 40, 1, 1, 1, 0, 0, 170, 20]])\n",
        "print(prediction)"
      ],
      "metadata": {
        "colab": {
          "base_uri": "https://localhost:8080/"
        },
        "id": "8xKgbPXATdqs",
        "outputId": "db58edfe-1058-40f3-fba1-cd86ca0ddd6c"
      },
      "execution_count": 7,
      "outputs": [
        {
          "output_type": "stream",
          "name": "stdout",
          "text": [
            "[[0.143996]]\n"
          ]
        }
      ]
    }
  ]
}